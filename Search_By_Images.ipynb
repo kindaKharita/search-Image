{
 "cells": [
  {
   "cell_type": "code",
   "execution_count": 2,
   "metadata": {},
   "outputs": [
    {
     "name": "stdout",
     "output_type": "stream",
     "text": [
      "0\n",
      "00\n",
      " * Serving Flask app \"__main__\" (lazy loading)\n",
      " * Environment: production\n",
      "   WARNING: This is a development server. Do not use it in a production deployment.\n",
      "   Use a production WSGI server instead.\n",
      " * Debug mode: off\n"
     ]
    },
    {
     "name": "stderr",
     "output_type": "stream",
     "text": [
      " * Running on http://127.0.0.1:8080/ (Press CTRL+C to quit)\n",
      "127.0.0.1 - - [01/Aug/2022 00:42:02] \"\u001b[37mPOST /delete HTTP/1.1\u001b[0m\" 200 -\n"
     ]
    },
    {
     "name": "stdout",
     "output_type": "stream",
     "text": [
      "delete\n",
      "6545\n",
      "65\n"
     ]
    },
    {
     "name": "stderr",
     "output_type": "stream",
     "text": [
      "127.0.0.1 - - [01/Aug/2022 00:42:03] \"\u001b[37mPOST /delete HTTP/1.1\u001b[0m\" 200 -\n"
     ]
    },
    {
     "name": "stdout",
     "output_type": "stream",
     "text": [
      "delete\n",
      "6545\n",
      "get_sim\n"
     ]
    },
    {
     "name": "stderr",
     "output_type": "stream",
     "text": [
      "127.0.0.1 - - [01/Aug/2022 00:42:13] \"\u001b[37mPOST /get_sim HTTP/1.1\u001b[0m\" 200 -\n",
      "127.0.0.1 - - [01/Aug/2022 00:42:21] \"\u001b[37mPOST /add HTTP/1.1\u001b[0m\" 200 -\n"
     ]
    },
    {
     "name": "stdout",
     "output_type": "stream",
     "text": [
      "add\n",
      "[<FileStorage: 'bat.jfif' ('application/octet-stream')>]\n",
      "6545\n",
      "get_sim\n"
     ]
    },
    {
     "name": "stderr",
     "output_type": "stream",
     "text": [
      "127.0.0.1 - - [01/Aug/2022 00:42:28] \"\u001b[37mPOST /get_sim HTTP/1.1\u001b[0m\" 200 -\n"
     ]
    }
   ],
   "source": [
    "import numpy as np\n",
    "from numpy.linalg import norm\n",
    "import pickle\n",
    "from tqdm.notebook import tqdm, tqdm_notebook\n",
    "import os\n",
    "import io\n",
    "import time\n",
    "import json\n",
    "from sklearn.decomposition import PCA\n",
    "from sklearn.manifold import TSNE\n",
    "from tensorflow.keras.preprocessing import image\n",
    "from tensorflow.keras.applications.resnet50 import ResNet50, preprocess_input\n",
    "\n",
    "import matplotlib\n",
    "import matplotlib.pyplot as plt\n",
    "import pandas as pd\n",
    "import validators\n",
    "from sklearn.neighbors import NearestNeighbors\n",
    "from PIL import Image\n",
    "\n",
    "\n",
    "from flask import Flask , request\n",
    "\n",
    "\n",
    "\n",
    "app = Flask(__name__)\n",
    "\n",
    "\n",
    "\n",
    "print('0')\n",
    "model = ResNet50(weights='resnet50_weights_tf_dim_ordering_tf_kernels_notop.h5', include_top=False,\n",
    "                 input_shape=(224, 224, 3),pooling='max')\n",
    "\n",
    "def extract_features2(imge, model):\n",
    "    input_shape = (224, 224, 3)\n",
    "    img = imge.resize((input_shape[0],input_shape[1]),Image.ANTIALIAS)\n",
    "    img_array = image.img_to_array(img)\n",
    "    expanded_img_array = np.expand_dims(img_array, axis=0)\n",
    "    preprocessed_img = preprocess_input(expanded_img_array)\n",
    "    features = model.predict(preprocessed_img)\n",
    "    flattened_features = features.flatten()\n",
    "    normalized_features = flattened_features / norm(flattened_features)\n",
    "    return normalized_features\n",
    "\n",
    "def get_ids_by_vectors(indices):\n",
    "    vv=[]\n",
    "    for i in indices[0]:\n",
    "        vv.append(id_feature_list[i][0])\n",
    "    return vv\n",
    "\n",
    "            \n",
    "with open('id_feature_list','rb') as f:\n",
    "    id_feature_list = pickle.load(f)\n",
    "            \n",
    "\n",
    "\n",
    "print('00')\n",
    "\n",
    "@app.route('/get_sim', methods=['POST', 'GET'])\n",
    "def get_sim():\n",
    "    print('get_sim')\n",
    "    im_file = request.files[\"image\"]\n",
    "    im_bytes = im_file.read()\n",
    "    im = Image.open(io.BytesIO(im_bytes))\n",
    "    \n",
    "    feature_list=[]\n",
    "    for i in range(len(id_feature_list)):\n",
    "        feature_list.append(id_feature_list[i][1])\n",
    "    \n",
    "    neighbors = NearestNeighbors(n_neighbors=5, algorithm='brute',\n",
    "    metric='euclidean').fit(feature_list)\n",
    "    \n",
    "    ss = extract_features2(im, model)\n",
    "\n",
    "    distances, indices = neighbors.kneighbors([ss])\n",
    "    \n",
    "    return json.dumps(get_ids_by_vectors(indices))\n",
    "\n",
    "\n",
    "@app.route('/add', methods=['POST', 'GET'])\n",
    "def add():\n",
    "    print('add')\n",
    "    files = request.files.getlist(\"image\")\n",
    "    print(files)\n",
    "    idd = request.form[\"idjj\"]\n",
    "    print(idd)\n",
    "    for im_file in files:\n",
    "        im_bytes = im_file.read()\n",
    "        im = Image.open(io.BytesIO(im_bytes))\n",
    "        id_feature_list.append((int(idd),extract_features2(im, model)))\n",
    "        \n",
    "    with open('id_feature_list','wb') as f:\n",
    "        pickle.dump(id_feature_list, f)\n",
    "        \n",
    "    return json.dumps('success')\n",
    "    \n",
    "@app.route('/delete', methods=['POST', 'GET'])\n",
    "def delete():\n",
    "    print('delete')\n",
    "    idd = request.form[\"idjj\"]\n",
    "    print(idd)\n",
    "    i=0\n",
    "    while True:\n",
    "        if i == len(id_feature_list):\n",
    "            break\n",
    "        if id_feature_list[i][0]==idd:\n",
    "            print(i)\n",
    "            id_feature_list.pop(i)\n",
    "            i=i-1\n",
    "        i=i+1\n",
    "        \n",
    "    with open('id_feature_list','wb') as f:\n",
    "        pickle.dump(id_feature_list, f)\n",
    "        \n",
    "    return json.dumps('success')\n",
    "        \n",
    "\n",
    "if __name__ == '__main__':\n",
    "    app.run(host='127.0.0.1',port=8080)"
   ]
  },
  {
   "cell_type": "code",
   "execution_count": null,
   "metadata": {},
   "outputs": [],
   "source": []
  }
 ],
 "metadata": {
  "kernelspec": {
   "display_name": "Python 3",
   "language": "python",
   "name": "python3"
  },
  "language_info": {
   "codemirror_mode": {
    "name": "ipython",
    "version": 3
   },
   "file_extension": ".py",
   "mimetype": "text/x-python",
   "name": "python",
   "nbconvert_exporter": "python",
   "pygments_lexer": "ipython3",
   "version": "3.8.3"
  }
 },
 "nbformat": 4,
 "nbformat_minor": 5
}
